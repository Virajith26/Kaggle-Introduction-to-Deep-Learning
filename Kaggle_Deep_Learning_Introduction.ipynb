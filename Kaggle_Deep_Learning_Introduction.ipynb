{
  "nbformat": 4,
  "nbformat_minor": 0,
  "metadata": {
    "colab": {
      "provenance": []
    },
    "kernelspec": {
      "name": "python3",
      "display_name": "Python 3"
    },
    "language_info": {
      "name": "python"
    }
  },
  "cells": [
    {
      "cell_type": "markdown",
      "source": [
        "# **KAGGLE DATA SCIENCE COURSE \"INTRODUCTION TO DEEP LEARNING\"**\n",
        "\n",
        "\n",
        "---\n",
        "\n",
        "\n"
      ],
      "metadata": {
        "id": "x1_UHWBOLlff"
      }
    },
    {
      "cell_type": "markdown",
      "source": [
        "# DAY-1: 9/10/22\n",
        "\n",
        "Creating linear model using keras. (refer linear model from notes)\n",
        "\n",
        "---"
      ],
      "metadata": {
        "id": "_1ffvzYILtoT"
      }
    },
    {
      "cell_type": "markdown",
      "source": [
        "We could define a linear model accepting three input features ('sugars', 'fiber', and 'protein') and producing a single output ('calories') like so:"
      ],
      "metadata": {
        "id": "_KQoFGFcL7RX"
      }
    },
    {
      "cell_type": "code",
      "source": [
        "from tensorflow import keras\n",
        "from tensorflow.keras import layers"
      ],
      "metadata": {
        "id": "diloH3XQMnXU"
      },
      "execution_count": null,
      "outputs": []
    },
    {
      "cell_type": "code",
      "execution_count": null,
      "metadata": {
        "id": "h6k9Izf0Lgk2"
      },
      "outputs": [],
      "source": [
        "#linear model -> Keras.Sequential()\n",
        "\n",
        "model = keras.Sequential([\n",
        "    layers.Dense(units = 1,input_shape=[3])\n",
        "    #units = how many output variables we need, so here its 1\n",
        "    #input_shape = how many input variables we need, so here its 3keras\n",
        "])"
      ]
    },
    {
      "cell_type": "markdown",
      "source": [
        "Internally, Keras represents the weights of a neural network with tensors. Tensors are basically TensorFlow's version of a Numpy array with a few differences that make them better suited to deep learning. One of the most important is that tensors are compatible with GPU and TPU) accelerators. TPUs, in fact, are designed specifically for tensor computations.\n",
        "\n",
        "---\n",
        "\n",
        "A model's weights are kept in its weights attribute as a list of tensors. Get the weights of the model you defined above. (If you want, you could display the weights with something like: print(\"Weights\\n{}\\n\\nBias\\n{}\".format(w, b)))."
      ],
      "metadata": {
        "id": "G_ACUAo3LiaZ"
      }
    },
    {
      "cell_type": "code",
      "source": [
        "#weights: \n",
        "w,b = model.weights\n",
        "#print(\"Weights\\n{}\\n\\nBias\\n{}\".format(w,b));\n",
        "w"
      ],
      "metadata": {
        "colab": {
          "base_uri": "https://localhost:8080/"
        },
        "id": "Bl-mQxbbPz_y",
        "outputId": "f01f532d-5c24-49a2-fe77-37c2d06c57b8"
      },
      "execution_count": null,
      "outputs": [
        {
          "output_type": "execute_result",
          "data": {
            "text/plain": [
              "<tf.Variable 'dense/kernel:0' shape=(3, 1) dtype=float32, numpy=\n",
              "array([[0.22610676],\n",
              "       [0.05490518],\n",
              "       [0.24346912]], dtype=float32)>"
            ]
          },
          "metadata": {},
          "execution_count": 5
        }
      ]
    },
    {
      "cell_type": "code",
      "source": [
        "b"
      ],
      "metadata": {
        "colab": {
          "base_uri": "https://localhost:8080/"
        },
        "id": "L0eAZLBor_wf",
        "outputId": "fc688c8f-bdbd-4c3e-beee-5cdebce7ba8f"
      },
      "execution_count": null,
      "outputs": [
        {
          "output_type": "execute_result",
          "data": {
            "text/plain": [
              "<tf.Variable 'dense/bias:0' shape=(1,) dtype=float32, numpy=array([0.], dtype=float32)>"
            ]
          },
          "metadata": {},
          "execution_count": 6
        }
      ]
    },
    {
      "cell_type": "markdown",
      "source": [
        "*When you set the input_shape argument, you are telling Keras the dimensions of the array it should expect for each example in the training data. Setting input_shape=[3] would create a network accepting vectors of length 3, like [0.2, 0.4, 0.6].)*"
      ],
      "metadata": {
        "id": "4hJ0l-HDQkbk"
      }
    },
    {
      "cell_type": "markdown",
      "source": [
        "\n",
        "\n",
        "---\n",
        "\n",
        "\n",
        "\n",
        "---\n",
        "\n"
      ],
      "metadata": {
        "id": "P9vfsHy9yAmb"
      }
    },
    {
      "cell_type": "markdown",
      "source": [
        "# **DAY-2: 10/10/22**\n",
        "\n",
        "**DEEP NEURAL NETWORKS: (REFER NOTES ON ACTIVATION FUNCTIONS)**"
      ],
      "metadata": {
        "id": "rrgTWXupyD_y"
      }
    },
    {
      "cell_type": "markdown",
      "source": [],
      "metadata": {
        "id": "T194CKXyyLjf"
      }
    },
    {
      "cell_type": "code",
      "source": [
        "from tensorflow import keras\n",
        "from tensorflow.keras import layers"
      ],
      "metadata": {
        "id": "gzUIq1nIyCbM"
      },
      "execution_count": null,
      "outputs": []
    },
    {
      "cell_type": "markdown",
      "source": [
        "**A model with two hidden layers and a output layer, while taking in two input variables. (refer notes for diagram Fig F1)**"
      ],
      "metadata": {
        "id": "bxRWwIa1zrG1"
      }
    },
    {
      "cell_type": "code",
      "source": [
        "model = keras.Sequential([\n",
        "    layers.Dense(units = 4,input_shape=[2],activation='relu'),#Hidden reLU layer\n",
        "    layers.Dense(units = 3,activation = 'relu'),  #Hidden reLU layer\n",
        "    layers.Dense(units=1),  #Output layer\n",
        "])"
      ],
      "metadata": {
        "id": "nxwqd4THy2QU"
      },
      "execution_count": null,
      "outputs": []
    },
    {
      "cell_type": "markdown",
      "source": [
        "The usual way of attaching an activation function to a Dense layer is to include it as part of the definition with the activation argument. Sometimes though you'll want to put some other layer between the Dense layer and its activation function.\n",
        "\n",
        "In this case, we can define the activation in its own Activation layer, like so:"
      ],
      "metadata": {
        "id": "U8-VkuDB1WXO"
      }
    },
    {
      "cell_type": "markdown",
      "source": [
        "\n",
        "*layers.Dense(units=8),*\n",
        "\n",
        "*layers.Activation('relu')*"
      ],
      "metadata": {
        "id": "yZN_ghnE2SeG"
      }
    },
    {
      "cell_type": "markdown",
      "source": [
        "This is completely equivalent to the ordinary way:\n",
        "\n",
        "\n",
        "layers.Dense(units=8, activation='relu')."
      ],
      "metadata": {
        "id": "VlZABRtR2TX2"
      }
    },
    {
      "cell_type": "code",
      "source": [
        "#EXAMPLE MODEL:\n",
        "model = keras.Sequential([\n",
        "    layers.Dense(32, input_shape=[8]),\n",
        "    layers.Activation('relu'),\n",
        "    layers.Dense(32),\n",
        "    layers.Activation('relu'),\n",
        "    layers.Dense(1),\n",
        "])"
      ],
      "metadata": {
        "id": "mQUP0yqX1WBo"
      },
      "execution_count": null,
      "outputs": []
    },
    {
      "cell_type": "markdown",
      "source": [
        "\n",
        "\n",
        "---\n",
        "\n",
        "There is a whole family of variants of the 'relu' activation -- 'elu', 'selu', and 'swish', among others -- all of which you can use in Keras. Sometimes one activation will perform better than another on a given task, so you could consider experimenting with activations as you develop a model. The ReLU activation tends to do well on most problems, so it's a good one to start with.\n",
        "\n",
        "---\n",
        "\n"
      ],
      "metadata": {
        "id": "tc09AIi63Kch"
      }
    },
    {
      "cell_type": "code",
      "source": [
        "import matplotlib.pyplot as plt\n",
        "import tensorflow as tf"
      ],
      "metadata": {
        "id": "WMlgO9S93QDU"
      },
      "execution_count": null,
      "outputs": []
    },
    {
      "cell_type": "code",
      "source": [
        "# YOUR CODE HERE: Change 'relu' to 'elu', 'selu', 'swish'... or something else\n",
        "activation_layer = layers.Activation('elu')\n",
        "\n",
        "x = tf.linspace(-3.0, 3.0, 100)\n",
        "y = activation_layer(x) # once created, a layer is callable just like a function\n",
        "\n",
        "plt.figure(dpi=100)\n",
        "plt.plot(x, y)\n",
        "plt.xlim(-3, 3)\n",
        "plt.xlabel(\"Input\")\n",
        "plt.ylabel(\"Output\")\n",
        "plt.show()"
      ],
      "metadata": {
        "id": "GXMpxfg_3KwZ"
      },
      "execution_count": null,
      "outputs": []
    },
    {
      "cell_type": "markdown",
      "source": [
        "\n",
        "\n",
        "---\n",
        "\n",
        "\n",
        "\n",
        "---\n",
        "\n"
      ],
      "metadata": {
        "id": "LrVodQOOi96q"
      }
    },
    {
      "cell_type": "markdown",
      "source": [
        "# DAY - 3: 11/10/22\n",
        "\n",
        "# STOCHASTIC GRADIANT DESCENT\n",
        "(refer notes on loss function and optimizer)"
      ],
      "metadata": {
        "id": "smkUCL7ZjFHn"
      }
    },
    {
      "cell_type": "markdown",
      "source": [
        "After defining a model, you can add a loss and optimizer with the model's 'compile' method:"
      ],
      "metadata": {
        "id": "VNjSFMcfkww7"
      }
    },
    {
      "cell_type": "code",
      "source": [
        "model.compile(\n",
        "    optimizer=\"adam\",\n",
        "    loss = \"mae\",\n",
        ")"
      ],
      "metadata": {
        "id": "bzZoKnZLi-wN"
      },
      "execution_count": null,
      "outputs": []
    },
    {
      "cell_type": "markdown",
      "source": [
        "OPTIONAL CODE NOW OPTIMIZING THE DATA BEFORE MODELLING:"
      ],
      "metadata": {
        "id": "Efv36n8AmtRz"
      }
    },
    {
      "cell_type": "markdown",
      "source": [
        "One thing you might note for now though is that we've rescaled each feature to lie in the interval  [0,1] ."
      ],
      "metadata": {
        "id": "b3tPiu49nFiU"
      }
    },
    {
      "cell_type": "code",
      "source": [
        "import pandas as pd\n",
        "from IPython.display import display\n",
        "\n",
        "red_wine = pd.read_csv('../input/dl-course-data/red-wine.csv')\n",
        "\n",
        "# Create training and validation splits\n",
        "df_train = red_wine.sample(frac=0.7, random_state=0)\n",
        "df_valid = red_wine.drop(df_train.index)\n",
        "display(df_train.head(4))\n",
        "\n",
        "# Scale to [0, 1]\n",
        "max_ = df_train.max(axis=0)\n",
        "min_ = df_train.min(axis=0)\n",
        "df_train = (df_train - min_) / (max_ - min_)\n",
        "df_valid = (df_valid - min_) / (max_ - min_)\n",
        "\n",
        "# Split features and target\n",
        "X_train = df_train.drop('quality', axis=1)\n",
        "X_valid = df_valid.drop('quality', axis=1)\n",
        "y_train = df_train['quality']\n",
        "y_valid = df_valid['quality']"
      ],
      "metadata": {
        "id": "kkODbJJam9xG"
      },
      "execution_count": null,
      "outputs": []
    },
    {
      "cell_type": "markdown",
      "source": [
        "We've chosen a three-layer network with over 1500 neurons. This network should be capable of learning fairly complex relationships in the data."
      ],
      "metadata": {
        "id": "igigGJ2ZnVj6"
      }
    },
    {
      "cell_type": "code",
      "source": [
        "from tensorflow import keras\n",
        "from tensorflow.keras import layers\n",
        "\n",
        "model = keras.Sequential([\n",
        "    layers.Dense(512, activation='relu', input_shape=[11]),\n",
        "    layers.Dense(512, activation='relu'),\n",
        "    layers.Dense(512, activation='relu'),\n",
        "    layers.Dense(1),\n",
        "])"
      ],
      "metadata": {
        "id": "CnFHZ9-NnXPK"
      },
      "execution_count": null,
      "outputs": []
    },
    {
      "cell_type": "markdown",
      "source": [
        "After defining the model, we compile in the optimizer and loss function."
      ],
      "metadata": {
        "id": "d02czoNXnWt4"
      }
    },
    {
      "cell_type": "code",
      "source": [
        "model.compile(\n",
        "    optimizer='adam',\n",
        "    loss='mae',\n",
        ")"
      ],
      "metadata": {
        "id": "raMQP8zpngDK"
      },
      "execution_count": null,
      "outputs": []
    },
    {
      "cell_type": "markdown",
      "source": [
        "We've told Keras to feed the optimizer 256 rows of the training data at a time (the batch_size) and to do that 10 times all the way through the dataset (the epochs)."
      ],
      "metadata": {
        "id": "kNeI65GQnh3N"
      }
    },
    {
      "cell_type": "code",
      "source": [
        "history = model.fit(\n",
        "    X_train, y_train,\n",
        "    validation_data=(X_valid, y_valid),\n",
        "    batch_size=256,\n",
        "    epochs=10,\n",
        ")"
      ],
      "metadata": {
        "id": "BwnF7R-bnm0B"
      },
      "execution_count": null,
      "outputs": []
    },
    {
      "cell_type": "markdown",
      "source": [
        "You can see that Keras will keep you updated on the loss as the model trains.\n",
        "\n",
        "Often, a better way to view the loss though is to plot it. The fit method in fact keeps a record of the loss produced during training in a History object. We'll convert the data to a Pandas dataframe, which makes the plotting easy."
      ],
      "metadata": {
        "id": "JIniDA9nn0Ai"
      }
    },
    {
      "cell_type": "code",
      "source": [
        "import pandas as pd\n",
        "\n",
        "# convert the training history to a dataframe\n",
        "history_df = pd.DataFrame(history.history)\n",
        "# use Pandas native plot method\n",
        "history_df['loss'].plot();"
      ],
      "metadata": {
        "id": "_-_mJtHYn1Dm"
      },
      "execution_count": null,
      "outputs": []
    },
    {
      "cell_type": "markdown",
      "source": [
        "![Screenshot 2022-10-11 112840.png](data:image/png;base64,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)"
      ],
      "metadata": {
        "id": "zUIKyZ3on3m7"
      }
    },
    {
      "cell_type": "markdown",
      "source": [
        "\n",
        "\n",
        "---\n",
        "\n",
        "\n",
        "\n",
        "---\n",
        "\n"
      ],
      "metadata": {
        "id": "MvGQG4u5oDka"
      }
    },
    {
      "cell_type": "markdown",
      "source": [
        "# **DAY-4: 12/10/22** OVERFITTING AND UNDERFITTING\n",
        "(refer notes on capacity and early stopping)"
      ],
      "metadata": {
        "id": "-JT5LBPfZKNb"
      }
    },
    {
      "cell_type": "markdown",
      "source": [
        "**CAPACITY EXAMPLE:**"
      ],
      "metadata": {
        "id": "ySm6t9UPZgOS"
      }
    },
    {
      "cell_type": "code",
      "source": [
        "model = keras.Sequential([\n",
        "    layers.Dense(16, activation='relu'),\n",
        "    layers.Dense(1),\n",
        "])\n",
        "\n",
        "wider = keras.Sequential([\n",
        "    layers.Dense(32, activation='relu'),\n",
        "    layers.Dense(1),\n",
        "])\n",
        "\n",
        "deeper = keras.Sequential([\n",
        "    layers.Dense(16, activation='relu'),\n",
        "    layers.Dense(16, activation='relu'),\n",
        "    layers.Dense(1),\n",
        "])"
      ],
      "metadata": {
        "id": "RGX0sTzwsJQJ"
      },
      "execution_count": null,
      "outputs": []
    },
    {
      "cell_type": "markdown",
      "source": [
        "**EARLY STOPPING EXAMPLE:**"
      ],
      "metadata": {
        "id": "40FV2FqhZsMf"
      }
    },
    {
      "cell_type": "code",
      "source": [
        "from tensorflow.keras.callbacks import EarlyStopping\n",
        "\n",
        "early_stopping = EarlyStopping(\n",
        "    min_delta=0.001, # minimium amount of change to count as an improvement\n",
        "    patience=20, # how many epochs to wait before stopping\n",
        "    restore_best_weights=True,\n",
        ")"
      ],
      "metadata": {
        "id": "43_i_zQgZ2KR"
      },
      "execution_count": null,
      "outputs": []
    },
    {
      "cell_type": "markdown",
      "source": [
        "**An example using early stopping and Capacity on Dataset:**"
      ],
      "metadata": {
        "id": "AY1KiarXZ3Ug"
      }
    },
    {
      "cell_type": "code",
      "source": [
        "import pandas as pd\n",
        "from IPython.display import display\n",
        "\n",
        "red_wine = pd.read_csv('../input/dl-course-data/red-wine.csv')\n",
        "\n",
        "# Create training and validation splits\n",
        "df_train = red_wine.sample(frac=0.7, random_state=0)\n",
        "df_valid = red_wine.drop(df_train.index)\n",
        "display(df_train.head(4))\n",
        "\n",
        "# Scale to [0, 1]\n",
        "max_ = df_train.max(axis=0)\n",
        "min_ = df_train.min(axis=0)\n",
        "df_train = (df_train - min_) / (max_ - min_)\n",
        "df_valid = (df_valid - min_) / (max_ - min_)\n",
        "\n",
        "# Split features and target\n",
        "X_train = df_train.drop('quality', axis=1)\n",
        "X_valid = df_valid.drop('quality', axis=1)\n",
        "y_train = df_train['quality']\n",
        "y_valid = df_valid['quality']"
      ],
      "metadata": {
        "id": "FLpJ2ZbNZ-Ny"
      },
      "execution_count": null,
      "outputs": []
    },
    {
      "cell_type": "markdown",
      "source": [
        "Now let's increase the capacity of the network. We'll go for a fairly large network, but rely on the callback to halt the training once the validation loss shows signs of increasing."
      ],
      "metadata": {
        "id": "24kAl-fQaNqa"
      }
    },
    {
      "cell_type": "code",
      "source": [
        "from tensorflow import keras\n",
        "from tensorflow.keras import layers, callbacks\n",
        "\n",
        "early_stopping = callbacks.EarlyStopping(\n",
        "    min_delta=0.001, # minimium amount of change to count as an improvement\n",
        "    patience=20, # how many epochs to wait before stopping\n",
        "    restore_best_weights=True,\n",
        ")\n",
        "\n",
        "model = keras.Sequential([\n",
        "    layers.Dense(512, activation='relu', input_shape=[11]),\n",
        "    layers.Dense(512, activation='relu'),\n",
        "    layers.Dense(512, activation='relu'),\n",
        "    layers.Dense(1),\n",
        "])\n",
        "model.compile(\n",
        "    optimizer='adam',\n",
        "    loss='mae',\n",
        ")"
      ],
      "metadata": {
        "id": "mseMQf6VaQR-"
      },
      "execution_count": null,
      "outputs": []
    },
    {
      "cell_type": "markdown",
      "source": [
        "After defining the callback, add it as an argument in fit"
      ],
      "metadata": {
        "id": "AvoiHl8PadrL"
      }
    },
    {
      "cell_type": "code",
      "source": [
        "history = model.fit(\n",
        "    X_train, y_train,\n",
        "    validation_data=(X_valid, y_valid),\n",
        "    batch_size=256,\n",
        "    epochs=500,\n",
        "    callbacks=[early_stopping], # put your callbacks in a list\n",
        "    verbose=0,  # turn off training log\n",
        ")\n",
        "\n",
        "history_df = pd.DataFrame(history.history)\n",
        "history_df.loc[:, ['loss', 'val_loss']].plot();\n",
        "print(\"Minimum validation loss: {}\".format(history_df['val_loss'].min()))"
      ],
      "metadata": {
        "id": "-2E-KBmnaafh"
      },
      "execution_count": null,
      "outputs": []
    },
    {
      "cell_type": "markdown",
      "source": [
        "![Screenshot 2022-10-12 234739.png](data:image/png;base64,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)"
      ],
      "metadata": {
        "id": "Y-Do8Nltagj9"
      }
    },
    {
      "cell_type": "markdown",
      "source": [
        "\n",
        "\n",
        "---\n",
        "\n",
        "\n",
        "\n",
        "---\n",
        "\n"
      ],
      "metadata": {
        "id": "Zd-2vy3Cctxg"
      }
    },
    {
      "cell_type": "markdown",
      "source": [
        "# **DAY - 5: 15/10/22**\n",
        "\n",
        "# **Different types of keras layers:**\n",
        "\n",
        "\n",
        "---\n",
        "(refer dropout and batch normalization from notes)\n"
      ],
      "metadata": {
        "id": "FZVE4vjO8ZW8"
      }
    },
    {
      "cell_type": "markdown",
      "source": [
        "Example of dropout:"
      ],
      "metadata": {
        "id": "gqLH8mUR_AUE"
      }
    },
    {
      "cell_type": "code",
      "source": [
        "keras.Sequential([\n",
        "    # ...\n",
        "    layers.Dropout(rate=0.3), # apply 30% dropout to the next layer\n",
        "    layers.Dense(16),\n",
        "    # ...\n",
        "])"
      ],
      "metadata": {
        "id": "Ub2iE9ur8tBQ"
      },
      "execution_count": null,
      "outputs": []
    },
    {
      "cell_type": "markdown",
      "source": [
        "Ways to add Batch normalization Layer\n",
        "\n",
        "You can put it After an layer:"
      ],
      "metadata": {
        "id": "sIEeYQga_FjM"
      }
    },
    {
      "cell_type": "code",
      "source": [
        "layers.Dense(16, activation='relu'),\n",
        "layers.BatchNormalization(),"
      ],
      "metadata": {
        "id": "7PgbsNvnCSeO"
      },
      "execution_count": null,
      "outputs": []
    },
    {
      "cell_type": "markdown",
      "source": [
        "... or between a layer and its activation function:"
      ],
      "metadata": {
        "id": "VUB3mNvMCRxz"
      }
    },
    {
      "cell_type": "code",
      "source": [
        "layers.Dense(16),\n",
        "layers.BatchNormalization(),\n",
        "layers.Activation('relu'),"
      ],
      "metadata": {
        "id": "fi6f000ACYZ3"
      },
      "execution_count": null,
      "outputs": []
    },
    {
      "cell_type": "markdown",
      "source": [
        "And if you add it as the first layer of your network it can act as a kind of adaptive preprocessor, standing in for something like Sci-Kit Learn's StandardScaler.\n",
        "\n",
        "---\n",
        "\n"
      ],
      "metadata": {
        "id": "6_Edrjo2CZbP"
      }
    },
    {
      "cell_type": "code",
      "source": [],
      "metadata": {
        "id": "SL8TKGTDCcdN"
      },
      "execution_count": null,
      "outputs": []
    },
    {
      "cell_type": "markdown",
      "source": [
        "# **DAY - 6: 11/10/22**\n",
        "\n",
        "# Binary Classification\n",
        "\n",
        "(refer notes on cross entropy and sigmoid function)"
      ],
      "metadata": {
        "id": "JlMrl4lpjmwL"
      }
    },
    {
      "cell_type": "markdown",
      "source": [
        "We'll define our model just like we did for the regression tasks, with one exception. In the final layer include a 'sigmoid' activation so that the model will produce class probabilities."
      ],
      "metadata": {
        "id": "brmHwDqfj_SW"
      }
    },
    {
      "cell_type": "code",
      "source": [
        "from tensorflow import keras\n",
        "from tensorflow.keras import layers\n",
        "\n",
        "model = keras.Sequential([\n",
        "    layers.Dense(4, activation='relu', input_shape=[33]),\n",
        "    layers.Dense(4, activation='relu'),    \n",
        "    layers.Dense(1, activation='sigmoid'),\n",
        "])"
      ],
      "metadata": {
        "id": "Q7B-qLTNj7Ky"
      },
      "execution_count": null,
      "outputs": []
    },
    {
      "cell_type": "markdown",
      "source": [
        "Add the cross-entropy loss and accuracy metric to the model with its compile method. For two-class problems, be sure to use 'binary' versions. (Problems with more classes will be slightly different.) The Adam optimizer works great for classification too, so we'll stick with it."
      ],
      "metadata": {
        "id": "PpdnAQ1skEMh"
      }
    },
    {
      "cell_type": "code",
      "source": [
        "model.compile(\n",
        "    optimizer='adam',\n",
        "    loss='binary_crossentropy',\n",
        "    metrics=['binary_accuracy'],\n",
        ")"
      ],
      "metadata": {
        "id": "SPGNliZckMt2"
      },
      "execution_count": null,
      "outputs": []
    },
    {
      "cell_type": "markdown",
      "source": [
        "The model in this particular problem can take quite a few epochs to complete training, so we'll include an early stopping callback for convenience."
      ],
      "metadata": {
        "id": "RTSE_Q7FkRIp"
      }
    },
    {
      "cell_type": "code",
      "source": [
        "early_stopping = keras.callbacks.EarlyStopping(\n",
        "    patience=10,\n",
        "    min_delta=0.001,\n",
        "    restore_best_weights=True,\n",
        ")\n",
        "\n",
        "history = model.fit(\n",
        "    X_train, y_train,\n",
        "    validation_data=(X_valid, y_valid),\n",
        "    batch_size=512,\n",
        "    epochs=1000,\n",
        "    callbacks=[early_stopping],\n",
        "    verbose=0, # hide the output because we have so many epochs\n",
        ")"
      ],
      "metadata": {
        "id": "ejCcERY0kR3w"
      },
      "execution_count": null,
      "outputs": []
    },
    {
      "cell_type": "markdown",
      "source": [
        "We'll take a look at the learning curves as always, and also inspect the best values for the loss and accuracy we got on the validation set. (Remember that early stopping will restore the weights to those that got these values.)"
      ],
      "metadata": {
        "id": "HlEJUBX1kUTg"
      }
    },
    {
      "cell_type": "code",
      "source": [
        "history_df = pd.DataFrame(history.history)\n",
        "# Start the plot at epoch 5\n",
        "history_df.loc[5:, ['loss', 'val_loss']].plot()\n",
        "history_df.loc[5:, ['binary_accuracy', 'val_binary_accuracy']].plot()\n",
        "\n",
        "print((\"Best Validation Loss: {:0.4f}\" +\\\n",
        "      \"\\nBest Validation Accuracy: {:0.4f}\")\\\n",
        "      .format(history_df['val_loss'].min(), \n",
        "              history_df['val_binary_accuracy'].max()))"
      ],
      "metadata": {
        "id": "9q70rMJckd9T"
      },
      "execution_count": null,
      "outputs": []
    },
    {
      "cell_type": "markdown",
      "source": [
        "![Screenshot 2022-10-17 114210.png](data:image/png;base64,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)"
      ],
      "metadata": {
        "id": "fp_1mpijkgP7"
      }
    },
    {
      "cell_type": "markdown",
      "source": [],
      "metadata": {
        "id": "ZkU8XWDCktJk"
      }
    }
  ]
}